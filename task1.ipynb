{
 "cells": [
  {
   "cell_type": "code",
   "execution_count": 44,
   "id": "943b5524-4c79-49c8-a9ed-be2b0a623616",
   "metadata": {},
   "outputs": [
    {
     "name": "stdout",
     "output_type": "stream",
     "text": [
      "D:\\edureka\\elevate_lab\\task1\n"
     ]
    }
   ],
   "source": [
    "import os\n",
    "print(os.getcwd()) # To check the current working directory"
   ]
  },
  {
   "cell_type": "code",
   "execution_count": 46,
   "id": "f02a3fb1-5560-4a27-8c9a-f84df9c56282",
   "metadata": {},
   "outputs": [
    {
     "name": "stdout",
     "output_type": "stream",
     "text": [
      "Current Directory: D:\\edureka\\elevate_lab\\task1\n"
     ]
    }
   ],
   "source": [
    "os.chdir(\"D:\\\\edureka\\\\elevate_lab\\\\task1\") # change directory by using double backslashes\n",
    "print(\"Current Directory:\",os.getcwd())  # Verify the change"
   ]
  },
  {
   "cell_type": "markdown",
   "id": "e2a033f2-743c-43f6-8658-a38ea45fb1cc",
   "metadata": {},
   "source": [
    " ##### above code is used si that all files can be located at on folder and can be upload easily"
   ]
  },
  {
   "cell_type": "markdown",
   "id": "bb42bcbd-2c1d-421a-8724-2b481d1eb529",
   "metadata": {},
   "source": [
    " # Data Cleaning and Preprocessing"
   ]
  },
  {
   "cell_type": "markdown",
   "id": "d7d3f8ca-0d3c-412f-a21e-d67c4a9891b8",
   "metadata": {},
   "source": [
    "### Step 1: Load the dataset"
   ]
  },
  {
   "cell_type": "code",
   "execution_count": 50,
   "id": "8d6ee13e-00d3-40a5-8c2b-abb88161f916",
   "metadata": {},
   "outputs": [],
   "source": [
    "import pandas as pd\n",
    "# load data set\n",
    "df = pd.read_csv('healthcare_noshows_appt.csv')"
   ]
  },
  {
   "cell_type": "code",
   "execution_count": 52,
   "id": "c2e9fafa-0f38-4e25-94d2-d897c8e45477",
   "metadata": {},
   "outputs": [
    {
     "data": {
      "text/html": [
       "<div>\n",
       "<style scoped>\n",
       "    .dataframe tbody tr th:only-of-type {\n",
       "        vertical-align: middle;\n",
       "    }\n",
       "\n",
       "    .dataframe tbody tr th {\n",
       "        vertical-align: top;\n",
       "    }\n",
       "\n",
       "    .dataframe thead th {\n",
       "        text-align: right;\n",
       "    }\n",
       "</style>\n",
       "<table border=\"1\" class=\"dataframe\">\n",
       "  <thead>\n",
       "    <tr style=\"text-align: right;\">\n",
       "      <th></th>\n",
       "      <th>PatientId</th>\n",
       "      <th>AppointmentID</th>\n",
       "      <th>Gender</th>\n",
       "      <th>ScheduledDay</th>\n",
       "      <th>AppointmentDay</th>\n",
       "      <th>Age</th>\n",
       "      <th>Neighbourhood</th>\n",
       "      <th>Scholarship</th>\n",
       "      <th>Hipertension</th>\n",
       "      <th>Diabetes</th>\n",
       "      <th>Alcoholism</th>\n",
       "      <th>Handcap</th>\n",
       "      <th>SMS_received</th>\n",
       "      <th>Showed_up</th>\n",
       "      <th>Date.diff</th>\n",
       "    </tr>\n",
       "  </thead>\n",
       "  <tbody>\n",
       "    <tr>\n",
       "      <th>0</th>\n",
       "      <td>2.987250e+13</td>\n",
       "      <td>5642903</td>\n",
       "      <td>F</td>\n",
       "      <td>2016-04-29</td>\n",
       "      <td>2016-04-29</td>\n",
       "      <td>62</td>\n",
       "      <td>JARDIM DA PENHA</td>\n",
       "      <td>False</td>\n",
       "      <td>True</td>\n",
       "      <td>False</td>\n",
       "      <td>False</td>\n",
       "      <td>False</td>\n",
       "      <td>False</td>\n",
       "      <td>True</td>\n",
       "      <td>0</td>\n",
       "    </tr>\n",
       "    <tr>\n",
       "      <th>1</th>\n",
       "      <td>5.589978e+14</td>\n",
       "      <td>5642503</td>\n",
       "      <td>M</td>\n",
       "      <td>2016-04-29</td>\n",
       "      <td>2016-04-29</td>\n",
       "      <td>56</td>\n",
       "      <td>JARDIM DA PENHA</td>\n",
       "      <td>False</td>\n",
       "      <td>False</td>\n",
       "      <td>False</td>\n",
       "      <td>False</td>\n",
       "      <td>False</td>\n",
       "      <td>False</td>\n",
       "      <td>True</td>\n",
       "      <td>0</td>\n",
       "    </tr>\n",
       "    <tr>\n",
       "      <th>2</th>\n",
       "      <td>4.262962e+12</td>\n",
       "      <td>5642549</td>\n",
       "      <td>F</td>\n",
       "      <td>2016-04-29</td>\n",
       "      <td>2016-04-29</td>\n",
       "      <td>62</td>\n",
       "      <td>MATA DA PRAIA</td>\n",
       "      <td>False</td>\n",
       "      <td>False</td>\n",
       "      <td>False</td>\n",
       "      <td>False</td>\n",
       "      <td>False</td>\n",
       "      <td>False</td>\n",
       "      <td>True</td>\n",
       "      <td>0</td>\n",
       "    </tr>\n",
       "    <tr>\n",
       "      <th>3</th>\n",
       "      <td>8.679512e+11</td>\n",
       "      <td>5642828</td>\n",
       "      <td>F</td>\n",
       "      <td>2016-04-29</td>\n",
       "      <td>2016-04-29</td>\n",
       "      <td>8</td>\n",
       "      <td>PONTAL DE CAMBURI</td>\n",
       "      <td>False</td>\n",
       "      <td>False</td>\n",
       "      <td>False</td>\n",
       "      <td>False</td>\n",
       "      <td>False</td>\n",
       "      <td>False</td>\n",
       "      <td>True</td>\n",
       "      <td>0</td>\n",
       "    </tr>\n",
       "    <tr>\n",
       "      <th>4</th>\n",
       "      <td>8.841186e+12</td>\n",
       "      <td>5642494</td>\n",
       "      <td>F</td>\n",
       "      <td>2016-04-29</td>\n",
       "      <td>2016-04-29</td>\n",
       "      <td>56</td>\n",
       "      <td>JARDIM DA PENHA</td>\n",
       "      <td>False</td>\n",
       "      <td>True</td>\n",
       "      <td>True</td>\n",
       "      <td>False</td>\n",
       "      <td>False</td>\n",
       "      <td>False</td>\n",
       "      <td>True</td>\n",
       "      <td>0</td>\n",
       "    </tr>\n",
       "  </tbody>\n",
       "</table>\n",
       "</div>"
      ],
      "text/plain": [
       "      PatientId  AppointmentID Gender ScheduledDay AppointmentDay  Age  \\\n",
       "0  2.987250e+13        5642903      F   2016-04-29     2016-04-29   62   \n",
       "1  5.589978e+14        5642503      M   2016-04-29     2016-04-29   56   \n",
       "2  4.262962e+12        5642549      F   2016-04-29     2016-04-29   62   \n",
       "3  8.679512e+11        5642828      F   2016-04-29     2016-04-29    8   \n",
       "4  8.841186e+12        5642494      F   2016-04-29     2016-04-29   56   \n",
       "\n",
       "       Neighbourhood  Scholarship  Hipertension  Diabetes  Alcoholism  \\\n",
       "0    JARDIM DA PENHA        False          True     False       False   \n",
       "1    JARDIM DA PENHA        False         False     False       False   \n",
       "2      MATA DA PRAIA        False         False     False       False   \n",
       "3  PONTAL DE CAMBURI        False         False     False       False   \n",
       "4    JARDIM DA PENHA        False          True      True       False   \n",
       "\n",
       "   Handcap  SMS_received  Showed_up  Date.diff  \n",
       "0    False         False       True          0  \n",
       "1    False         False       True          0  \n",
       "2    False         False       True          0  \n",
       "3    False         False       True          0  \n",
       "4    False         False       True          0  "
      ]
     },
     "execution_count": 52,
     "metadata": {},
     "output_type": "execute_result"
    }
   ],
   "source": [
    "# Display first few rows\n",
    "df.head(5)"
   ]
  },
  {
   "cell_type": "markdown",
   "id": "60076040-4ba5-41e8-852c-8f92d6047eca",
   "metadata": {},
   "source": [
    "### Step 2: Understand the  (Explore the Data (EDA)"
   ]
  },
  {
   "cell_type": "code",
   "execution_count": 29,
   "id": "ceaf040b-d982-4ef4-82d4-75b74f9289d1",
   "metadata": {},
   "outputs": [
    {
     "name": "stdout",
     "output_type": "stream",
     "text": [
      "<class 'pandas.core.frame.DataFrame'>\n",
      "RangeIndex: 1465 entries, 0 to 1464\n",
      "Data columns (total 16 columns):\n",
      " #   Column               Non-Null Count  Dtype \n",
      "---  ------               --------------  ----- \n",
      " 0   product_id           1465 non-null   object\n",
      " 1   product_name         1465 non-null   object\n",
      " 2   category             1465 non-null   object\n",
      " 3   discounted_price     1465 non-null   object\n",
      " 4   actual_price         1465 non-null   object\n",
      " 5   discount_percentage  1465 non-null   object\n",
      " 6   rating               1465 non-null   object\n",
      " 7   rating_count         1463 non-null   object\n",
      " 8   about_product        1465 non-null   object\n",
      " 9   user_id              1465 non-null   object\n",
      " 10  user_name            1465 non-null   object\n",
      " 11  review_id            1465 non-null   object\n",
      " 12  review_title         1465 non-null   object\n",
      " 13  review_content       1465 non-null   object\n",
      " 14  img_link             1465 non-null   object\n",
      " 15  product_link         1465 non-null   object\n",
      "dtypes: object(16)\n",
      "memory usage: 183.3+ KB\n"
     ]
    }
   ],
   "source": [
    "df.info()"
   ]
  },
  {
   "cell_type": "code",
   "execution_count": 55,
   "id": "aca6ca4b-7184-433f-8c2b-43e07dde7b03",
   "metadata": {},
   "outputs": [
    {
     "data": {
      "text/html": [
       "<div>\n",
       "<style scoped>\n",
       "    .dataframe tbody tr th:only-of-type {\n",
       "        vertical-align: middle;\n",
       "    }\n",
       "\n",
       "    .dataframe tbody tr th {\n",
       "        vertical-align: top;\n",
       "    }\n",
       "\n",
       "    .dataframe thead th {\n",
       "        text-align: right;\n",
       "    }\n",
       "</style>\n",
       "<table border=\"1\" class=\"dataframe\">\n",
       "  <thead>\n",
       "    <tr style=\"text-align: right;\">\n",
       "      <th></th>\n",
       "      <th>PatientId</th>\n",
       "      <th>AppointmentID</th>\n",
       "      <th>Age</th>\n",
       "      <th>Date.diff</th>\n",
       "    </tr>\n",
       "  </thead>\n",
       "  <tbody>\n",
       "    <tr>\n",
       "      <th>count</th>\n",
       "      <td>1.069870e+05</td>\n",
       "      <td>1.069870e+05</td>\n",
       "      <td>106987.000000</td>\n",
       "      <td>106987.000000</td>\n",
       "    </tr>\n",
       "    <tr>\n",
       "      <th>mean</th>\n",
       "      <td>1.472814e+14</td>\n",
       "      <td>5.675434e+06</td>\n",
       "      <td>38.316085</td>\n",
       "      <td>10.166721</td>\n",
       "    </tr>\n",
       "    <tr>\n",
       "      <th>std</th>\n",
       "      <td>2.558267e+14</td>\n",
       "      <td>7.133274e+04</td>\n",
       "      <td>22.466214</td>\n",
       "      <td>15.263508</td>\n",
       "    </tr>\n",
       "    <tr>\n",
       "      <th>min</th>\n",
       "      <td>3.921784e+04</td>\n",
       "      <td>5.030230e+06</td>\n",
       "      <td>1.000000</td>\n",
       "      <td>-6.000000</td>\n",
       "    </tr>\n",
       "    <tr>\n",
       "      <th>25%</th>\n",
       "      <td>4.173523e+12</td>\n",
       "      <td>5.640490e+06</td>\n",
       "      <td>19.000000</td>\n",
       "      <td>0.000000</td>\n",
       "    </tr>\n",
       "    <tr>\n",
       "      <th>50%</th>\n",
       "      <td>3.172463e+13</td>\n",
       "      <td>5.680744e+06</td>\n",
       "      <td>38.000000</td>\n",
       "      <td>4.000000</td>\n",
       "    </tr>\n",
       "    <tr>\n",
       "      <th>75%</th>\n",
       "      <td>9.433600e+13</td>\n",
       "      <td>5.725634e+06</td>\n",
       "      <td>56.000000</td>\n",
       "      <td>14.000000</td>\n",
       "    </tr>\n",
       "    <tr>\n",
       "      <th>max</th>\n",
       "      <td>9.999816e+14</td>\n",
       "      <td>5.790484e+06</td>\n",
       "      <td>115.000000</td>\n",
       "      <td>179.000000</td>\n",
       "    </tr>\n",
       "  </tbody>\n",
       "</table>\n",
       "</div>"
      ],
      "text/plain": [
       "          PatientId  AppointmentID            Age      Date.diff\n",
       "count  1.069870e+05   1.069870e+05  106987.000000  106987.000000\n",
       "mean   1.472814e+14   5.675434e+06      38.316085      10.166721\n",
       "std    2.558267e+14   7.133274e+04      22.466214      15.263508\n",
       "min    3.921784e+04   5.030230e+06       1.000000      -6.000000\n",
       "25%    4.173523e+12   5.640490e+06      19.000000       0.000000\n",
       "50%    3.172463e+13   5.680744e+06      38.000000       4.000000\n",
       "75%    9.433600e+13   5.725634e+06      56.000000      14.000000\n",
       "max    9.999816e+14   5.790484e+06     115.000000     179.000000"
      ]
     },
     "execution_count": 55,
     "metadata": {},
     "output_type": "execute_result"
    }
   ],
   "source": [
    "df.describe()"
   ]
  },
  {
   "cell_type": "code",
   "execution_count": 57,
   "id": "fa5eb428-c17b-4be4-ac62-23f758c86e85",
   "metadata": {},
   "outputs": [
    {
     "data": {
      "text/plain": [
       "Index(['PatientId', 'AppointmentID', 'Gender', 'ScheduledDay',\n",
       "       'AppointmentDay', 'Age', 'Neighbourhood', 'Scholarship', 'Hipertension',\n",
       "       'Diabetes', 'Alcoholism', 'Handcap', 'SMS_received', 'Showed_up',\n",
       "       'Date.diff'],\n",
       "      dtype='object')"
      ]
     },
     "execution_count": 57,
     "metadata": {},
     "output_type": "execute_result"
    }
   ],
   "source": [
    "df.columns"
   ]
  },
  {
   "cell_type": "code",
   "execution_count": 62,
   "id": "d632410b-6f6b-4d45-be17-b2c988f62e35",
   "metadata": {},
   "outputs": [
    {
     "name": "stdout",
     "output_type": "stream",
     "text": [
      "dataset shape: (106987, 15)\n"
     ]
    }
   ],
   "source": [
    "print(\"dataset shape:\", df.shape)"
   ]
  },
  {
   "cell_type": "code",
   "execution_count": 82,
   "id": "692bb027-ed59-4471-b8a3-e64ae31024c6",
   "metadata": {},
   "outputs": [
    {
     "data": {
      "text/plain": [
       "PatientId         float64\n",
       "AppointmentID       int64\n",
       "Gender             object\n",
       "ScheduledDay       object\n",
       "AppointmentDay     object\n",
       "Age                 int64\n",
       "Neighbourhood      object\n",
       "Scholarship          bool\n",
       "Hipertension         bool\n",
       "Diabetes             bool\n",
       "Alcoholism           bool\n",
       "Handcap              bool\n",
       "SMS_received         bool\n",
       "Showed_up            bool\n",
       "Date.diff           int64\n",
       "dtype: object"
      ]
     },
     "execution_count": 82,
     "metadata": {},
     "output_type": "execute_result"
    }
   ],
   "source": [
    "df.dtypes"
   ]
  },
  {
   "cell_type": "markdown",
   "id": "b01a28fd-007b-4191-b7f4-4c3816fc713c",
   "metadata": {},
   "source": [
    "# Identify and Handle Missing Values"
   ]
  },
  {
   "cell_type": "code",
   "execution_count": 65,
   "id": "d040dd13-4c2d-46d5-b95d-671cced36c26",
   "metadata": {},
   "outputs": [
    {
     "data": {
      "text/plain": [
       "PatientId         0\n",
       "AppointmentID     0\n",
       "Gender            0\n",
       "ScheduledDay      0\n",
       "AppointmentDay    0\n",
       "Age               0\n",
       "Neighbourhood     0\n",
       "Scholarship       0\n",
       "Hipertension      0\n",
       "Diabetes          0\n",
       "Alcoholism        0\n",
       "Handcap           0\n",
       "SMS_received      0\n",
       "Showed_up         0\n",
       "Date.diff         0\n",
       "dtype: int64"
      ]
     },
     "execution_count": 65,
     "metadata": {},
     "output_type": "execute_result"
    }
   ],
   "source": [
    "# Check missing values\n",
    "df.isnull().sum()\n"
   ]
  },
  {
   "cell_type": "markdown",
   "id": "b4937fd5-edad-4836-b59a-d24d0b6af0c1",
   "metadata": {},
   "source": [
    "### dataset has no missing values"
   ]
  },
  {
   "cell_type": "markdown",
   "id": "32811061-99a7-4ddb-b688-1d57c80fe7d8",
   "metadata": {},
   "source": [
    "### Check for Duplicate Rows"
   ]
  },
  {
   "cell_type": "code",
   "execution_count": 71,
   "id": "c662920c-ad21-4e6d-91ff-191b7b61069c",
   "metadata": {},
   "outputs": [
    {
     "data": {
      "text/plain": [
       "0"
      ]
     },
     "execution_count": 71,
     "metadata": {},
     "output_type": "execute_result"
    }
   ],
   "source": [
    "df.duplicated(). sum()"
   ]
  },
  {
   "cell_type": "markdown",
   "id": "5ff07351-250d-4ad8-a92c-f38966c1aff8",
   "metadata": {},
   "source": [
    "### No duplicate rows found.\n"
   ]
  },
  {
   "cell_type": "markdown",
   "id": "4375b9ea-f332-4279-9d91-0134802289ac",
   "metadata": {},
   "source": [
    "# Standardize Text Values"
   ]
  },
  {
   "cell_type": "code",
   "execution_count": 75,
   "id": "035cd5f3-cf29-42ee-906c-f30ff8e7df59",
   "metadata": {},
   "outputs": [
    {
     "data": {
      "text/plain": [
       "array(['F', 'M'], dtype=object)"
      ]
     },
     "execution_count": 75,
     "metadata": {},
     "output_type": "execute_result"
    }
   ],
   "source": [
    "# Check unique values in 'Gender' column to ensure consistency\n",
    "df['Gender'].unique()\n"
   ]
  },
  {
   "cell_type": "markdown",
   "id": "189b21da-ad46-45f4-8b36-de856ba4d33e",
   "metadata": {},
   "source": [
    "### No further cleaning needed for this column.\n",
    "As Gender column is already clean and standardized "
   ]
  },
  {
   "cell_type": "code",
   "execution_count": 78,
   "id": "c7a59a8e-0d5e-4bb9-88c5-0dcfec5860aa",
   "metadata": {},
   "outputs": [
    {
     "data": {
      "text/plain": [
       "array(['JARDIM DA PENHA', 'MATA DA PRAIA', 'PONTAL DE CAMBURI',\n",
       "       'REPÚBLICA', 'GOIABEIRAS', 'ANDORINHAS', 'CONQUISTA',\n",
       "       'NOVA PALESTINA', 'DA PENHA', 'TABUAZEIRO', 'BENTO FERREIRA',\n",
       "       'SÃO PEDRO', 'SANTA MARTHA', 'SÃO CRISTÓVÃO', 'MARUÍPE',\n",
       "       'GRANDE VITÓRIA', 'SANTO ANDRÉ', 'SOLON BORGES', 'BONFIM',\n",
       "       'JARDIM CAMBURI', 'MARIA ORTIZ', 'JABOUR', 'ANTÔNIO HONÓRIO',\n",
       "       'RESISTÊNCIA', 'ILHA DE SANTA MARIA', 'JUCUTUQUARA',\n",
       "       'MÁRIO CYPRESTE', 'SANTO ANTÔNIO', 'BELA VISTA', 'PRAIA DO SUÁ',\n",
       "       'SANTA HELENA', 'ITARARÉ', 'INHANGUETÁ', 'UNIVERSITÁRIO',\n",
       "       'SÃO JOSÉ', 'REDENÇÃO', 'SANTA CLARA', 'CENTRO', 'PARQUE MOSCOSO',\n",
       "       'DO MOSCOSO', 'SANTOS DUMONT', 'CARATOÍRA', 'ARIOVALDO FAVALESSA',\n",
       "       'ILHA DO FRADE', 'GURIGICA', 'JOANA D´ARC', 'CONSOLAÇÃO',\n",
       "       'SÃO BENEDITO', 'PRAIA DO CANTO', 'BOA VISTA', 'SANTA LÚCIA',\n",
       "       'BARRO VERMELHO', 'ESTRELINHA', 'FORTE SÃO JOÃO', 'FONTE GRANDE',\n",
       "       'MORADA DE CAMBURI', 'ENSEADA DO SUÁ', 'SANTOS REIS', 'PIEDADE',\n",
       "       'JESUS DE NAZARETH', 'SANTA LUÍZA', 'SANTA TEREZA', 'CRUZAMENTO',\n",
       "       'ILHA DO PRÍNCIPE', 'ROMÃO', 'ILHA DAS CAIEIRAS', 'COMDUSA',\n",
       "       'SANTA CECÍLIA', 'VILA RUBIM', 'DE LOURDES', 'MONTE BELO',\n",
       "       'DO QUADRO', 'DO CABRAL', 'HORTO', 'SEGURANÇA DO LAR',\n",
       "       'ILHA DO BOI', 'FRADINHOS', 'NAZARETH', 'AEROPORTO',\n",
       "       'ILHAS OCEÂNICAS DE TRINDADE', 'PARQUE INDUSTRIAL'], dtype=object)"
      ]
     },
     "execution_count": 78,
     "metadata": {},
     "output_type": "execute_result"
    }
   ],
   "source": [
    "df['Neighbourhood'].unique()"
   ]
  },
  {
   "cell_type": "markdown",
   "id": "d74d9fb5-c5f1-4d0b-9b01-48b778db4b2b",
   "metadata": {},
   "source": [
    "### All values are uppercase and consistent.\n",
    "No major inconsistencies like spelling errors, extra spaces, or casing issues."
   ]
  },
  {
   "cell_type": "markdown",
   "id": "a7948a66-37e1-4d7d-9853-0685764d92bb",
   "metadata": {},
   "source": [
    "# Convert Date Columns to Consistent Date Format"
   ]
  },
  {
   "cell_type": "markdown",
   "id": "67bcbf89-809f-4866-80ec-ad3792fc8277",
   "metadata": {},
   "source": [
    "# Rename column headers to be clean and uniform"
   ]
  },
  {
   "cell_type": "code",
   "execution_count": 113,
   "id": "c46ec6de-82fd-4679-8a63-d874f910594b",
   "metadata": {},
   "outputs": [
    {
     "name": "stdout",
     "output_type": "stream",
     "text": [
      "Index(['patientid', 'appointmentid', 'gender', 'scheduledday',\n",
      "       'appointmentday', 'age', 'neighbourhood', 'scholarship', 'hipertension',\n",
      "       'diabetes', 'alcoholism', 'handcap', 'sms_received', 'showed_up',\n",
      "       'datediff'],\n",
      "      dtype='object')\n"
     ]
    }
   ],
   "source": [
    "# Removes any leading/trailing spaces in column names.\n",
    "df.columns = df.columns.str.strip()\n",
    "print (df.columns)"
   ]
  },
  {
   "cell_type": "code",
   "execution_count": 115,
   "id": "a356a3e7-e916-470c-8a98-99065a992c1d",
   "metadata": {},
   "outputs": [
    {
     "name": "stdout",
     "output_type": "stream",
     "text": [
      "Index(['patientid', 'appointmentid', 'gender', 'scheduledday',\n",
      "       'appointmentday', 'age', 'neighbourhood', 'scholarship', 'hipertension',\n",
      "       'diabetes', 'alcoholism', 'handcap', 'sms_received', 'showed_up',\n",
      "       'datediff'],\n",
      "      dtype='object')\n"
     ]
    }
   ],
   "source": [
    "# Converts all column names to lowercase \n",
    "df.columns = df.columns.str.lower()\n",
    "print (df.columns)"
   ]
  },
  {
   "cell_type": "code",
   "execution_count": 117,
   "id": "407eadf6-c369-4150-a8ee-5d1342acc9b4",
   "metadata": {},
   "outputs": [
    {
     "name": "stdout",
     "output_type": "stream",
     "text": [
      "Index(['patientid', 'appointmentid', 'gender', 'scheduledday',\n",
      "       'appointmentday', 'age', 'neighbourhood', 'scholarship', 'hipertension',\n",
      "       'diabetes', 'alcoholism', 'handcap', 'sms_received', 'showed_up',\n",
      "       'datediff'],\n",
      "      dtype='object')\n"
     ]
    }
   ],
   "source": [
    "# Replaces spaces in column names with underscores\n",
    "df.columns = df.columns.str.replace(' ', '_')\n",
    "print (df.columns)"
   ]
  },
  {
   "cell_type": "code",
   "execution_count": 119,
   "id": "5f65e50e-b9f6-49dd-a879-c2e396aa02ef",
   "metadata": {},
   "outputs": [
    {
     "name": "stdout",
     "output_type": "stream",
     "text": [
      "Index(['patientid', 'appointmentid', 'gender', 'scheduledday',\n",
      "       'appointmentday', 'age', 'neighbourhood', 'scholarship', 'hipertension',\n",
      "       'diabetes', 'alcoholism', 'handcap', 'sms_received', 'showed_up',\n",
      "       'datediff'],\n",
      "      dtype='object')\n"
     ]
    }
   ],
   "source": [
    "# Removes dots (periods) from column names\n",
    "df.columns = df.columns.str.replace('.', '', regex=False)\n",
    "print(df.columns)"
   ]
  },
  {
   "cell_type": "markdown",
   "id": "daae48a3-7f9a-4d27-8e77-42e777db4bd2",
   "metadata": {},
   "source": [
    "## Now column names are: \n",
    "Clean (no spaces or punctuation),\n",
    "\n",
    "Consistent (all lowercase),\n",
    "\n",
    "Python-friendly (can be used easily in code)."
   ]
  },
  {
   "cell_type": "markdown",
   "id": "fb467178-68ae-42e5-aefb-d4dffaa4ff0c",
   "metadata": {},
   "source": [
    "#### ScheduledDay, AppointmentDay are stored as text for now. We’ll convert them to proper datetime format so we can calculate differences,\n",
    "filter by date, etc."
   ]
  },
  {
   "cell_type": "code",
   "execution_count": 125,
   "id": "e16122eb-1060-45d6-a27c-a1a08235a651",
   "metadata": {},
   "outputs": [],
   "source": [
    "# Convert date columns to datetime\n",
    "# Convert date columns to datetime using lowercase column names\n",
    "df['scheduledday'] = pd.to_datetime(df['scheduledday'])\n",
    "df['appointmentday'] = pd.to_datetime(df['appointmentday'])"
   ]
  },
  {
   "cell_type": "code",
   "execution_count": 127,
   "id": "d5a284a6-40c2-4b4a-a12f-fd3c206def23",
   "metadata": {},
   "outputs": [
    {
     "data": {
      "text/plain": [
       "patientid                float64\n",
       "appointmentid              int64\n",
       "gender                    object\n",
       "scheduledday      datetime64[ns]\n",
       "appointmentday    datetime64[ns]\n",
       "age                        int64\n",
       "neighbourhood             object\n",
       "scholarship                 bool\n",
       "hipertension                bool\n",
       "diabetes                    bool\n",
       "alcoholism                  bool\n",
       "handcap                     bool\n",
       "sms_received                bool\n",
       "showed_up                   bool\n",
       "datediff                   int64\n",
       "dtype: object"
      ]
     },
     "execution_count": 127,
     "metadata": {},
     "output_type": "execute_result"
    }
   ],
   "source": [
    "# Check data types again to confirm correctness\n",
    "df.dtypes\n"
   ]
  },
  {
   "cell_type": "markdown",
   "id": "dd9b7b2a-51fd-4aa0-b894-c38cb502d7a1",
   "metadata": {},
   "source": [
    "# Summary"
   ]
  },
  {
   "cell_type": "code",
   "execution_count": 130,
   "id": "517dff9d-28a5-43c3-9227-ea476928cf0f",
   "metadata": {},
   "outputs": [
    {
     "name": "stdout",
     "output_type": "stream",
     "text": [
      "<class 'pandas.core.frame.DataFrame'>\n",
      "RangeIndex: 106987 entries, 0 to 106986\n",
      "Data columns (total 15 columns):\n",
      " #   Column          Non-Null Count   Dtype         \n",
      "---  ------          --------------   -----         \n",
      " 0   patientid       106987 non-null  float64       \n",
      " 1   appointmentid   106987 non-null  int64         \n",
      " 2   gender          106987 non-null  object        \n",
      " 3   scheduledday    106987 non-null  datetime64[ns]\n",
      " 4   appointmentday  106987 non-null  datetime64[ns]\n",
      " 5   age             106987 non-null  int64         \n",
      " 6   neighbourhood   106987 non-null  object        \n",
      " 7   scholarship     106987 non-null  bool          \n",
      " 8   hipertension    106987 non-null  bool          \n",
      " 9   diabetes        106987 non-null  bool          \n",
      " 10  alcoholism      106987 non-null  bool          \n",
      " 11  handcap         106987 non-null  bool          \n",
      " 12  sms_received    106987 non-null  bool          \n",
      " 13  showed_up       106987 non-null  bool          \n",
      " 14  datediff        106987 non-null  int64         \n",
      "dtypes: bool(7), datetime64[ns](2), float64(1), int64(3), object(2)\n",
      "memory usage: 7.2+ MB\n"
     ]
    }
   ],
   "source": [
    "## 1. Get a concise summary of the DataFrame: columns, non-null counts, and data types\n",
    "df.info()\n"
   ]
  },
  {
   "cell_type": "code",
   "execution_count": 132,
   "id": "e1d7c35f-40a8-458a-a5f3-6485c8be134a",
   "metadata": {},
   "outputs": [
    {
     "data": {
      "text/html": [
       "<div>\n",
       "<style scoped>\n",
       "    .dataframe tbody tr th:only-of-type {\n",
       "        vertical-align: middle;\n",
       "    }\n",
       "\n",
       "    .dataframe tbody tr th {\n",
       "        vertical-align: top;\n",
       "    }\n",
       "\n",
       "    .dataframe thead th {\n",
       "        text-align: right;\n",
       "    }\n",
       "</style>\n",
       "<table border=\"1\" class=\"dataframe\">\n",
       "  <thead>\n",
       "    <tr style=\"text-align: right;\">\n",
       "      <th></th>\n",
       "      <th>patientid</th>\n",
       "      <th>appointmentid</th>\n",
       "      <th>scheduledday</th>\n",
       "      <th>appointmentday</th>\n",
       "      <th>age</th>\n",
       "      <th>datediff</th>\n",
       "    </tr>\n",
       "  </thead>\n",
       "  <tbody>\n",
       "    <tr>\n",
       "      <th>count</th>\n",
       "      <td>1.069870e+05</td>\n",
       "      <td>1.069870e+05</td>\n",
       "      <td>106987</td>\n",
       "      <td>106987</td>\n",
       "      <td>106987.000000</td>\n",
       "      <td>106987.000000</td>\n",
       "    </tr>\n",
       "    <tr>\n",
       "      <th>mean</th>\n",
       "      <td>1.472814e+14</td>\n",
       "      <td>5.675434e+06</td>\n",
       "      <td>2016-05-08 21:18:53.330217728</td>\n",
       "      <td>2016-05-19 01:18:58.041070336</td>\n",
       "      <td>38.316085</td>\n",
       "      <td>10.166721</td>\n",
       "    </tr>\n",
       "    <tr>\n",
       "      <th>min</th>\n",
       "      <td>3.921784e+04</td>\n",
       "      <td>5.030230e+06</td>\n",
       "      <td>2015-11-10 00:00:00</td>\n",
       "      <td>2016-04-29 00:00:00</td>\n",
       "      <td>1.000000</td>\n",
       "      <td>-6.000000</td>\n",
       "    </tr>\n",
       "    <tr>\n",
       "      <th>25%</th>\n",
       "      <td>4.173523e+12</td>\n",
       "      <td>5.640490e+06</td>\n",
       "      <td>2016-04-29 00:00:00</td>\n",
       "      <td>2016-05-09 00:00:00</td>\n",
       "      <td>19.000000</td>\n",
       "      <td>0.000000</td>\n",
       "    </tr>\n",
       "    <tr>\n",
       "      <th>50%</th>\n",
       "      <td>3.172463e+13</td>\n",
       "      <td>5.680744e+06</td>\n",
       "      <td>2016-05-10 00:00:00</td>\n",
       "      <td>2016-05-18 00:00:00</td>\n",
       "      <td>38.000000</td>\n",
       "      <td>4.000000</td>\n",
       "    </tr>\n",
       "    <tr>\n",
       "      <th>75%</th>\n",
       "      <td>9.433600e+13</td>\n",
       "      <td>5.725634e+06</td>\n",
       "      <td>2016-05-20 00:00:00</td>\n",
       "      <td>2016-05-31 00:00:00</td>\n",
       "      <td>56.000000</td>\n",
       "      <td>14.000000</td>\n",
       "    </tr>\n",
       "    <tr>\n",
       "      <th>max</th>\n",
       "      <td>9.999816e+14</td>\n",
       "      <td>5.790484e+06</td>\n",
       "      <td>2016-06-08 00:00:00</td>\n",
       "      <td>2016-06-08 00:00:00</td>\n",
       "      <td>115.000000</td>\n",
       "      <td>179.000000</td>\n",
       "    </tr>\n",
       "    <tr>\n",
       "      <th>std</th>\n",
       "      <td>2.558267e+14</td>\n",
       "      <td>7.133274e+04</td>\n",
       "      <td>NaN</td>\n",
       "      <td>NaN</td>\n",
       "      <td>22.466214</td>\n",
       "      <td>15.263508</td>\n",
       "    </tr>\n",
       "  </tbody>\n",
       "</table>\n",
       "</div>"
      ],
      "text/plain": [
       "          patientid  appointmentid                   scheduledday  \\\n",
       "count  1.069870e+05   1.069870e+05                         106987   \n",
       "mean   1.472814e+14   5.675434e+06  2016-05-08 21:18:53.330217728   \n",
       "min    3.921784e+04   5.030230e+06            2015-11-10 00:00:00   \n",
       "25%    4.173523e+12   5.640490e+06            2016-04-29 00:00:00   \n",
       "50%    3.172463e+13   5.680744e+06            2016-05-10 00:00:00   \n",
       "75%    9.433600e+13   5.725634e+06            2016-05-20 00:00:00   \n",
       "max    9.999816e+14   5.790484e+06            2016-06-08 00:00:00   \n",
       "std    2.558267e+14   7.133274e+04                            NaN   \n",
       "\n",
       "                      appointmentday            age       datediff  \n",
       "count                         106987  106987.000000  106987.000000  \n",
       "mean   2016-05-19 01:18:58.041070336      38.316085      10.166721  \n",
       "min              2016-04-29 00:00:00       1.000000      -6.000000  \n",
       "25%              2016-05-09 00:00:00      19.000000       0.000000  \n",
       "50%              2016-05-18 00:00:00      38.000000       4.000000  \n",
       "75%              2016-05-31 00:00:00      56.000000      14.000000  \n",
       "max              2016-06-08 00:00:00     115.000000     179.000000  \n",
       "std                              NaN      22.466214      15.263508  "
      ]
     },
     "execution_count": 132,
     "metadata": {},
     "output_type": "execute_result"
    }
   ],
   "source": [
    "# Statistical Summary, Display basic statistics for numerical columns like count, mean, std, min, max, etc.\n",
    "df.describe()"
   ]
  },
  {
   "cell_type": "code",
   "execution_count": 134,
   "id": "fed7d99a-2775-465c-a713-28343f0a9b95",
   "metadata": {},
   "outputs": [
    {
     "data": {
      "text/plain": [
       "gender\n",
       "F    70118\n",
       "M    36869\n",
       "Name: count, dtype: int64"
      ]
     },
     "execution_count": 134,
     "metadata": {},
     "output_type": "execute_result"
    }
   ],
   "source": [
    "# Unique Value Counts, Count how many times each gender appears in the dataset.\n",
    "df['gender'].value_counts()\n"
   ]
  },
  {
   "cell_type": "code",
   "execution_count": 136,
   "id": "6fe627cc-2d5c-433e-ad32-2cf1733f29b8",
   "metadata": {},
   "outputs": [
    {
     "data": {
      "text/plain": [
       "showed_up\n",
       "True     85307\n",
       "False    21680\n",
       "Name: count, dtype: int64"
      ]
     },
     "execution_count": 136,
     "metadata": {},
     "output_type": "execute_result"
    }
   ],
   "source": [
    "# Count how many people showed up vs. missed their appointments\n",
    "df['showed_up'].value_counts()"
   ]
  },
  {
   "cell_type": "code",
   "execution_count": 138,
   "id": "bd1d9a38-9358-4c1b-b81b-4e39f83346e0",
   "metadata": {},
   "outputs": [
    {
     "data": {
      "text/plain": [
       "neighbourhood\n",
       "JARDIM CAMBURI                 7586\n",
       "MARIA ORTIZ                    5563\n",
       "RESISTÊNCIA                    4235\n",
       "JARDIM DA PENHA                3851\n",
       "ITARARÉ                        3412\n",
       "                               ... \n",
       "ILHA DO BOI                      35\n",
       "ILHA DO FRADE                    10\n",
       "AEROPORTO                         8\n",
       "ILHAS OCEÂNICAS DE TRINDADE       2\n",
       "PARQUE INDUSTRIAL                 1\n",
       "Name: count, Length: 81, dtype: int64"
      ]
     },
     "execution_count": 138,
     "metadata": {},
     "output_type": "execute_result"
    }
   ],
   "source": [
    "# Count the number of appointments per neighbourhood\n",
    "df['neighbourhood'].value_counts()"
   ]
  },
  {
   "cell_type": "code",
   "execution_count": 140,
   "id": "3e060261-a8bc-4c6b-bc92-dedb0437e3b1",
   "metadata": {},
   "outputs": [
    {
     "data": {
      "text/plain": [
       "(Timestamp('2015-11-10 00:00:00'), Timestamp('2016-06-08 00:00:00'))"
      ]
     },
     "execution_count": 140,
     "metadata": {},
     "output_type": "execute_result"
    }
   ],
   "source": [
    "# Date Ranges: Check the range of scheduled appointment dates\n",
    "df['scheduledday'].min(), df['scheduledday'].max()"
   ]
  },
  {
   "cell_type": "code",
   "execution_count": 146,
   "id": "308ccb7d-e7e9-4466-889c-ec5f98ffb9af",
   "metadata": {},
   "outputs": [
    {
     "data": {
      "text/plain": [
       "(Timestamp('2016-04-29 00:00:00'), Timestamp('2016-06-08 00:00:00'))"
      ]
     },
     "execution_count": 146,
     "metadata": {},
     "output_type": "execute_result"
    }
   ],
   "source": [
    "#Check the range of actual appointment dates\n",
    "df['appointmentday'].min(), df['appointmentday'].max()"
   ]
  },
  {
   "cell_type": "code",
   "execution_count": 144,
   "id": "fb1e90ee-3c53-4cc8-a043-df3b6107a9cd",
   "metadata": {},
   "outputs": [
    {
     "data": {
      "text/html": [
       "<div>\n",
       "<style scoped>\n",
       "    .dataframe tbody tr th:only-of-type {\n",
       "        vertical-align: middle;\n",
       "    }\n",
       "\n",
       "    .dataframe tbody tr th {\n",
       "        vertical-align: top;\n",
       "    }\n",
       "\n",
       "    .dataframe thead th {\n",
       "        text-align: right;\n",
       "    }\n",
       "</style>\n",
       "<table border=\"1\" class=\"dataframe\">\n",
       "  <thead>\n",
       "    <tr style=\"text-align: right;\">\n",
       "      <th></th>\n",
       "      <th>patientid</th>\n",
       "      <th>appointmentid</th>\n",
       "      <th>age</th>\n",
       "      <th>scholarship</th>\n",
       "      <th>hipertension</th>\n",
       "      <th>diabetes</th>\n",
       "      <th>alcoholism</th>\n",
       "      <th>handcap</th>\n",
       "      <th>sms_received</th>\n",
       "      <th>showed_up</th>\n",
       "      <th>datediff</th>\n",
       "    </tr>\n",
       "  </thead>\n",
       "  <tbody>\n",
       "    <tr>\n",
       "      <th>patientid</th>\n",
       "      <td>1.000000</td>\n",
       "      <td>0.004189</td>\n",
       "      <td>-0.002970</td>\n",
       "      <td>-0.002172</td>\n",
       "      <td>-0.006155</td>\n",
       "      <td>0.001873</td>\n",
       "      <td>0.011361</td>\n",
       "      <td>-0.008748</td>\n",
       "      <td>-0.008468</td>\n",
       "      <td>0.001083</td>\n",
       "      <td>-0.000961</td>\n",
       "    </tr>\n",
       "    <tr>\n",
       "      <th>appointmentid</th>\n",
       "      <td>0.004189</td>\n",
       "      <td>1.000000</td>\n",
       "      <td>-0.023401</td>\n",
       "      <td>0.022379</td>\n",
       "      <td>0.012092</td>\n",
       "      <td>0.022505</td>\n",
       "      <td>0.033159</td>\n",
       "      <td>0.015006</td>\n",
       "      <td>-0.254682</td>\n",
       "      <td>0.161578</td>\n",
       "      <td>-0.772038</td>\n",
       "    </tr>\n",
       "    <tr>\n",
       "      <th>age</th>\n",
       "      <td>-0.002970</td>\n",
       "      <td>-0.023401</td>\n",
       "      <td>1.000000</td>\n",
       "      <td>-0.112699</td>\n",
       "      <td>0.502091</td>\n",
       "      <td>0.290631</td>\n",
       "      <td>0.090391</td>\n",
       "      <td>0.079726</td>\n",
       "      <td>0.005251</td>\n",
       "      <td>0.067025</td>\n",
       "      <td>0.038880</td>\n",
       "    </tr>\n",
       "    <tr>\n",
       "      <th>scholarship</th>\n",
       "      <td>-0.002172</td>\n",
       "      <td>0.022379</td>\n",
       "      <td>-0.112699</td>\n",
       "      <td>1.000000</td>\n",
       "      <td>-0.024530</td>\n",
       "      <td>-0.027622</td>\n",
       "      <td>0.033527</td>\n",
       "      <td>-0.010465</td>\n",
       "      <td>-0.000010</td>\n",
       "      <td>-0.029370</td>\n",
       "      <td>-0.030439</td>\n",
       "    </tr>\n",
       "    <tr>\n",
       "      <th>hipertension</th>\n",
       "      <td>-0.006155</td>\n",
       "      <td>0.012092</td>\n",
       "      <td>0.502091</td>\n",
       "      <td>-0.024530</td>\n",
       "      <td>1.000000</td>\n",
       "      <td>0.430827</td>\n",
       "      <td>0.085459</td>\n",
       "      <td>0.082909</td>\n",
       "      <td>-0.008805</td>\n",
       "      <td>0.037280</td>\n",
       "      <td>-0.016996</td>\n",
       "    </tr>\n",
       "    <tr>\n",
       "      <th>diabetes</th>\n",
       "      <td>0.001873</td>\n",
       "      <td>0.022505</td>\n",
       "      <td>0.290631</td>\n",
       "      <td>-0.027622</td>\n",
       "      <td>0.430827</td>\n",
       "      <td>1.000000</td>\n",
       "      <td>0.016874</td>\n",
       "      <td>0.057945</td>\n",
       "      <td>-0.016136</td>\n",
       "      <td>0.015928</td>\n",
       "      <td>-0.027339</td>\n",
       "    </tr>\n",
       "    <tr>\n",
       "      <th>alcoholism</th>\n",
       "      <td>0.011361</td>\n",
       "      <td>0.033159</td>\n",
       "      <td>0.090391</td>\n",
       "      <td>0.033527</td>\n",
       "      <td>0.085459</td>\n",
       "      <td>0.016874</td>\n",
       "      <td>1.000000</td>\n",
       "      <td>0.002864</td>\n",
       "      <td>-0.027403</td>\n",
       "      <td>0.000517</td>\n",
       "      <td>-0.038949</td>\n",
       "    </tr>\n",
       "    <tr>\n",
       "      <th>handcap</th>\n",
       "      <td>-0.008748</td>\n",
       "      <td>0.015006</td>\n",
       "      <td>0.079726</td>\n",
       "      <td>-0.010465</td>\n",
       "      <td>0.082909</td>\n",
       "      <td>0.057945</td>\n",
       "      <td>0.002864</td>\n",
       "      <td>1.000000</td>\n",
       "      <td>-0.026256</td>\n",
       "      <td>0.007620</td>\n",
       "      <td>-0.021101</td>\n",
       "    </tr>\n",
       "    <tr>\n",
       "      <th>sms_received</th>\n",
       "      <td>-0.008468</td>\n",
       "      <td>-0.254682</td>\n",
       "      <td>0.005251</td>\n",
       "      <td>-0.000010</td>\n",
       "      <td>-0.008805</td>\n",
       "      <td>-0.016136</td>\n",
       "      <td>-0.027403</td>\n",
       "      <td>-0.026256</td>\n",
       "      <td>1.000000</td>\n",
       "      <td>-0.127253</td>\n",
       "      <td>0.396482</td>\n",
       "    </tr>\n",
       "    <tr>\n",
       "      <th>showed_up</th>\n",
       "      <td>0.001083</td>\n",
       "      <td>0.161578</td>\n",
       "      <td>0.067025</td>\n",
       "      <td>-0.029370</td>\n",
       "      <td>0.037280</td>\n",
       "      <td>0.015928</td>\n",
       "      <td>0.000517</td>\n",
       "      <td>0.007620</td>\n",
       "      <td>-0.127253</td>\n",
       "      <td>1.000000</td>\n",
       "      <td>-0.185704</td>\n",
       "    </tr>\n",
       "    <tr>\n",
       "      <th>datediff</th>\n",
       "      <td>-0.000961</td>\n",
       "      <td>-0.772038</td>\n",
       "      <td>0.038880</td>\n",
       "      <td>-0.030439</td>\n",
       "      <td>-0.016996</td>\n",
       "      <td>-0.027339</td>\n",
       "      <td>-0.038949</td>\n",
       "      <td>-0.021101</td>\n",
       "      <td>0.396482</td>\n",
       "      <td>-0.185704</td>\n",
       "      <td>1.000000</td>\n",
       "    </tr>\n",
       "  </tbody>\n",
       "</table>\n",
       "</div>"
      ],
      "text/plain": [
       "               patientid  appointmentid       age  scholarship  hipertension  \\\n",
       "patientid       1.000000       0.004189 -0.002970    -0.002172     -0.006155   \n",
       "appointmentid   0.004189       1.000000 -0.023401     0.022379      0.012092   \n",
       "age            -0.002970      -0.023401  1.000000    -0.112699      0.502091   \n",
       "scholarship    -0.002172       0.022379 -0.112699     1.000000     -0.024530   \n",
       "hipertension   -0.006155       0.012092  0.502091    -0.024530      1.000000   \n",
       "diabetes        0.001873       0.022505  0.290631    -0.027622      0.430827   \n",
       "alcoholism      0.011361       0.033159  0.090391     0.033527      0.085459   \n",
       "handcap        -0.008748       0.015006  0.079726    -0.010465      0.082909   \n",
       "sms_received   -0.008468      -0.254682  0.005251    -0.000010     -0.008805   \n",
       "showed_up       0.001083       0.161578  0.067025    -0.029370      0.037280   \n",
       "datediff       -0.000961      -0.772038  0.038880    -0.030439     -0.016996   \n",
       "\n",
       "               diabetes  alcoholism   handcap  sms_received  showed_up  \\\n",
       "patientid      0.001873    0.011361 -0.008748     -0.008468   0.001083   \n",
       "appointmentid  0.022505    0.033159  0.015006     -0.254682   0.161578   \n",
       "age            0.290631    0.090391  0.079726      0.005251   0.067025   \n",
       "scholarship   -0.027622    0.033527 -0.010465     -0.000010  -0.029370   \n",
       "hipertension   0.430827    0.085459  0.082909     -0.008805   0.037280   \n",
       "diabetes       1.000000    0.016874  0.057945     -0.016136   0.015928   \n",
       "alcoholism     0.016874    1.000000  0.002864     -0.027403   0.000517   \n",
       "handcap        0.057945    0.002864  1.000000     -0.026256   0.007620   \n",
       "sms_received  -0.016136   -0.027403 -0.026256      1.000000  -0.127253   \n",
       "showed_up      0.015928    0.000517  0.007620     -0.127253   1.000000   \n",
       "datediff      -0.027339   -0.038949 -0.021101      0.396482  -0.185704   \n",
       "\n",
       "               datediff  \n",
       "patientid     -0.000961  \n",
       "appointmentid -0.772038  \n",
       "age            0.038880  \n",
       "scholarship   -0.030439  \n",
       "hipertension  -0.016996  \n",
       "diabetes      -0.027339  \n",
       "alcoholism    -0.038949  \n",
       "handcap       -0.021101  \n",
       "sms_received   0.396482  \n",
       "showed_up     -0.185704  \n",
       "datediff       1.000000  "
      ]
     },
     "execution_count": 144,
     "metadata": {},
     "output_type": "execute_result"
    }
   ],
   "source": [
    "#Correlation Check: Show correlation between numeric columns to see how they relate to each other\n",
    "df.corr(numeric_only=True)"
   ]
  },
  {
   "cell_type": "code",
   "execution_count": 150,
   "id": "8576ac0d-f093-4ad2-9693-f687e5ea36ea",
   "metadata": {},
   "outputs": [],
   "source": [
    "# Extract the day name (e.g., Monday, Tuesday) from the 'scheduledday' column\n",
    "df['scheduled_dayofweek'] = df['scheduledday'].dt.day_name()"
   ]
  },
  {
   "cell_type": "code",
   "execution_count": 159,
   "id": "d3d0a2d0-4dfd-4e9e-8e60-a1fcb8ef8736",
   "metadata": {},
   "outputs": [
    {
     "name": "stdout",
     "output_type": "stream",
     "text": [
      "0            Friday\n",
      "1            Friday\n",
      "2            Friday\n",
      "3            Friday\n",
      "4            Friday\n",
      "            ...    \n",
      "106982      Tuesday\n",
      "106983      Tuesday\n",
      "106984    Wednesday\n",
      "106985    Wednesday\n",
      "106986    Wednesday\n",
      "Name: scheduled_dayofweek, Length: 106987, dtype: object\n"
     ]
    }
   ],
   "source": [
    "print(df['scheduled_dayofweek'])"
   ]
  },
  {
   "cell_type": "code",
   "execution_count": 161,
   "id": "9163b881-a794-460a-9552-cdea3c4720ae",
   "metadata": {},
   "outputs": [
    {
     "data": {
      "text/html": [
       "<div>\n",
       "<style scoped>\n",
       "    .dataframe tbody tr th:only-of-type {\n",
       "        vertical-align: middle;\n",
       "    }\n",
       "\n",
       "    .dataframe tbody tr th {\n",
       "        vertical-align: top;\n",
       "    }\n",
       "\n",
       "    .dataframe thead th {\n",
       "        text-align: right;\n",
       "    }\n",
       "</style>\n",
       "<table border=\"1\" class=\"dataframe\">\n",
       "  <thead>\n",
       "    <tr style=\"text-align: right;\">\n",
       "      <th></th>\n",
       "      <th>scheduledday</th>\n",
       "      <th>scheduled_dayofweek</th>\n",
       "    </tr>\n",
       "  </thead>\n",
       "  <tbody>\n",
       "    <tr>\n",
       "      <th>0</th>\n",
       "      <td>2016-04-29</td>\n",
       "      <td>Friday</td>\n",
       "    </tr>\n",
       "    <tr>\n",
       "      <th>1</th>\n",
       "      <td>2016-04-29</td>\n",
       "      <td>Friday</td>\n",
       "    </tr>\n",
       "    <tr>\n",
       "      <th>2</th>\n",
       "      <td>2016-04-29</td>\n",
       "      <td>Friday</td>\n",
       "    </tr>\n",
       "    <tr>\n",
       "      <th>3</th>\n",
       "      <td>2016-04-29</td>\n",
       "      <td>Friday</td>\n",
       "    </tr>\n",
       "    <tr>\n",
       "      <th>4</th>\n",
       "      <td>2016-04-29</td>\n",
       "      <td>Friday</td>\n",
       "    </tr>\n",
       "  </tbody>\n",
       "</table>\n",
       "</div>"
      ],
      "text/plain": [
       "  scheduledday scheduled_dayofweek\n",
       "0   2016-04-29              Friday\n",
       "1   2016-04-29              Friday\n",
       "2   2016-04-29              Friday\n",
       "3   2016-04-29              Friday\n",
       "4   2016-04-29              Friday"
      ]
     },
     "execution_count": 161,
     "metadata": {},
     "output_type": "execute_result"
    }
   ],
   "source": [
    "df[['scheduledday', 'scheduled_dayofweek']].head()\n"
   ]
  },
  {
   "cell_type": "code",
   "execution_count": 163,
   "id": "4b520e7a-7808-4187-aa7a-8e7a7e980cbc",
   "metadata": {},
   "outputs": [
    {
     "data": {
      "text/plain": [
       "array(['Friday', 'Wednesday', 'Tuesday', 'Thursday', 'Monday', 'Saturday'],\n",
       "      dtype=object)"
      ]
     },
     "execution_count": 163,
     "metadata": {},
     "output_type": "execute_result"
    }
   ],
   "source": [
    "df['scheduled_dayofweek'].unique()"
   ]
  },
  {
   "cell_type": "markdown",
   "id": "2430f1c5-3037-48fc-b67d-e5bf71b6202a",
   "metadata": {},
   "source": [
    "### These are the unique days on which appointments were scheduled — no duplicates."
   ]
  },
  {
   "cell_type": "code",
   "execution_count": 166,
   "id": "d689400d-02f7-4b56-b898-e4e0000af29d",
   "metadata": {},
   "outputs": [],
   "source": [
    " # Extract day of the week from appointment date\n",
    "# Extract the day name (e.g., Monday, Tuesday) from the 'appointmentday' column\n",
    "df['appointment_dayofweek'] = df['appointmentday'].dt.day_name()\n"
   ]
  },
  {
   "cell_type": "markdown",
   "id": "b909a9b5-585e-4381-b50d-a5205db85c70",
   "metadata": {},
   "source": [
    "### This helps us:\n",
    "\n",
    "\n",
    "Analyze trends in no-shows or attendance by day.\n",
    "\n",
    "\n",
    "Understand if weekends vs. weekdays affect patient behavior."
   ]
  },
  {
   "cell_type": "code",
   "execution_count": 169,
   "id": "976f904e-bedb-4874-a085-5e3b413cbb99",
   "metadata": {},
   "outputs": [
    {
     "data": {
      "text/plain": [
       "array(['Friday', 'Tuesday', 'Monday', 'Wednesday', 'Thursday', 'Saturday'],\n",
       "      dtype=object)"
      ]
     },
     "execution_count": 169,
     "metadata": {},
     "output_type": "execute_result"
    }
   ],
   "source": [
    "df['appointment_dayofweek'].unique()\n"
   ]
  },
  {
   "cell_type": "markdown",
   "id": "aaa45b21-fd4f-4dad-a77f-33b6dfd9c808",
   "metadata": {},
   "source": [
    "# Calculate waiting time in days"
   ]
  },
  {
   "cell_type": "code",
   "execution_count": 172,
   "id": "c5f0af9f-b27b-4455-bffc-79d307868a79",
   "metadata": {},
   "outputs": [],
   "source": [
    "# Calculate the number of days between scheduled day and appointment day\n",
    "df['waiting_days'] = (df['appointmentday'] - df['scheduledday']).dt.days"
   ]
  },
  {
   "cell_type": "code",
   "execution_count": 193,
   "id": "7ac79f96-b47f-4e09-b690-a56da84cb88d",
   "metadata": {},
   "outputs": [
    {
     "data": {
      "text/html": [
       "<div>\n",
       "<style scoped>\n",
       "    .dataframe tbody tr th:only-of-type {\n",
       "        vertical-align: middle;\n",
       "    }\n",
       "\n",
       "    .dataframe tbody tr th {\n",
       "        vertical-align: top;\n",
       "    }\n",
       "\n",
       "    .dataframe thead th {\n",
       "        text-align: right;\n",
       "    }\n",
       "</style>\n",
       "<table border=\"1\" class=\"dataframe\">\n",
       "  <thead>\n",
       "    <tr style=\"text-align: right;\">\n",
       "      <th></th>\n",
       "      <th>scheduledday</th>\n",
       "      <th>appointmentday</th>\n",
       "      <th>waiting_days</th>\n",
       "    </tr>\n",
       "  </thead>\n",
       "  <tbody>\n",
       "    <tr>\n",
       "      <th>0</th>\n",
       "      <td>2016-04-29</td>\n",
       "      <td>2016-04-29</td>\n",
       "      <td>0</td>\n",
       "    </tr>\n",
       "    <tr>\n",
       "      <th>1</th>\n",
       "      <td>2016-04-29</td>\n",
       "      <td>2016-04-29</td>\n",
       "      <td>0</td>\n",
       "    </tr>\n",
       "    <tr>\n",
       "      <th>2</th>\n",
       "      <td>2016-04-29</td>\n",
       "      <td>2016-04-29</td>\n",
       "      <td>0</td>\n",
       "    </tr>\n",
       "    <tr>\n",
       "      <th>3</th>\n",
       "      <td>2016-04-29</td>\n",
       "      <td>2016-04-29</td>\n",
       "      <td>0</td>\n",
       "    </tr>\n",
       "    <tr>\n",
       "      <th>4</th>\n",
       "      <td>2016-04-29</td>\n",
       "      <td>2016-04-29</td>\n",
       "      <td>0</td>\n",
       "    </tr>\n",
       "    <tr>\n",
       "      <th>5</th>\n",
       "      <td>2016-04-27</td>\n",
       "      <td>2016-04-29</td>\n",
       "      <td>2</td>\n",
       "    </tr>\n",
       "    <tr>\n",
       "      <th>6</th>\n",
       "      <td>2016-04-27</td>\n",
       "      <td>2016-04-29</td>\n",
       "      <td>2</td>\n",
       "    </tr>\n",
       "    <tr>\n",
       "      <th>7</th>\n",
       "      <td>2016-04-27</td>\n",
       "      <td>2016-04-29</td>\n",
       "      <td>2</td>\n",
       "    </tr>\n",
       "    <tr>\n",
       "      <th>8</th>\n",
       "      <td>2016-04-29</td>\n",
       "      <td>2016-04-29</td>\n",
       "      <td>0</td>\n",
       "    </tr>\n",
       "    <tr>\n",
       "      <th>9</th>\n",
       "      <td>2016-04-27</td>\n",
       "      <td>2016-04-29</td>\n",
       "      <td>2</td>\n",
       "    </tr>\n",
       "  </tbody>\n",
       "</table>\n",
       "</div>"
      ],
      "text/plain": [
       "  scheduledday appointmentday  waiting_days\n",
       "0   2016-04-29     2016-04-29             0\n",
       "1   2016-04-29     2016-04-29             0\n",
       "2   2016-04-29     2016-04-29             0\n",
       "3   2016-04-29     2016-04-29             0\n",
       "4   2016-04-29     2016-04-29             0\n",
       "5   2016-04-27     2016-04-29             2\n",
       "6   2016-04-27     2016-04-29             2\n",
       "7   2016-04-27     2016-04-29             2\n",
       "8   2016-04-29     2016-04-29             0\n",
       "9   2016-04-27     2016-04-29             2"
      ]
     },
     "execution_count": 193,
     "metadata": {},
     "output_type": "execute_result"
    }
   ],
   "source": [
    "df[['scheduledday', 'appointmentday', 'waiting_days']].head(10)"
   ]
  },
  {
   "cell_type": "markdown",
   "id": "42fcdb3d-1618-422b-b5f7-b58c701a4ac6",
   "metadata": {},
   "source": [
    "### Helps us understand if longer wait times lead to more no-shows.\n",
    "\n",
    "It's a key factor in patient behavior analysis."
   ]
  },
  {
   "cell_type": "markdown",
   "id": "11d81ef9-c743-404c-8bc5-7b03c3ed7960",
   "metadata": {},
   "source": [
    "# Categorize Waiting Time into Bins"
   ]
  },
  {
   "cell_type": "code",
   "execution_count": 196,
   "id": "3ff218a2-ea6a-475f-ab98-22f49a012bdb",
   "metadata": {},
   "outputs": [],
   "source": [
    "# Categorize waiting days into bins\n",
    "df['waiting_category'] = pd.cut(\n",
    "    df['waiting_days'],\n",
    "    bins=[-1, 0, 3, 7, 30, 60, 120, df['waiting_days'].max()],\n",
    "    labels=['Same Day', '1-3 Days', '4-7 Days', '8-30 Days', '31-60 Days', '61-120 Days', '120+ Days']\n",
    ")\n"
   ]
  },
  {
   "cell_type": "code",
   "execution_count": 198,
   "id": "3a694b95-13e9-438f-9259-db022f909eb1",
   "metadata": {},
   "outputs": [
    {
     "data": {
      "text/html": [
       "<div>\n",
       "<style scoped>\n",
       "    .dataframe tbody tr th:only-of-type {\n",
       "        vertical-align: middle;\n",
       "    }\n",
       "\n",
       "    .dataframe tbody tr th {\n",
       "        vertical-align: top;\n",
       "    }\n",
       "\n",
       "    .dataframe thead th {\n",
       "        text-align: right;\n",
       "    }\n",
       "</style>\n",
       "<table border=\"1\" class=\"dataframe\">\n",
       "  <thead>\n",
       "    <tr style=\"text-align: right;\">\n",
       "      <th></th>\n",
       "      <th>waiting_days</th>\n",
       "      <th>waiting_category</th>\n",
       "    </tr>\n",
       "  </thead>\n",
       "  <tbody>\n",
       "    <tr>\n",
       "      <th>0</th>\n",
       "      <td>0</td>\n",
       "      <td>Same Day</td>\n",
       "    </tr>\n",
       "    <tr>\n",
       "      <th>1</th>\n",
       "      <td>0</td>\n",
       "      <td>Same Day</td>\n",
       "    </tr>\n",
       "    <tr>\n",
       "      <th>2</th>\n",
       "      <td>0</td>\n",
       "      <td>Same Day</td>\n",
       "    </tr>\n",
       "    <tr>\n",
       "      <th>3</th>\n",
       "      <td>0</td>\n",
       "      <td>Same Day</td>\n",
       "    </tr>\n",
       "    <tr>\n",
       "      <th>4</th>\n",
       "      <td>0</td>\n",
       "      <td>Same Day</td>\n",
       "    </tr>\n",
       "    <tr>\n",
       "      <th>5</th>\n",
       "      <td>2</td>\n",
       "      <td>1-3 Days</td>\n",
       "    </tr>\n",
       "    <tr>\n",
       "      <th>6</th>\n",
       "      <td>2</td>\n",
       "      <td>1-3 Days</td>\n",
       "    </tr>\n",
       "    <tr>\n",
       "      <th>7</th>\n",
       "      <td>2</td>\n",
       "      <td>1-3 Days</td>\n",
       "    </tr>\n",
       "    <tr>\n",
       "      <th>8</th>\n",
       "      <td>0</td>\n",
       "      <td>Same Day</td>\n",
       "    </tr>\n",
       "    <tr>\n",
       "      <th>9</th>\n",
       "      <td>2</td>\n",
       "      <td>1-3 Days</td>\n",
       "    </tr>\n",
       "  </tbody>\n",
       "</table>\n",
       "</div>"
      ],
      "text/plain": [
       "   waiting_days waiting_category\n",
       "0             0         Same Day\n",
       "1             0         Same Day\n",
       "2             0         Same Day\n",
       "3             0         Same Day\n",
       "4             0         Same Day\n",
       "5             2         1-3 Days\n",
       "6             2         1-3 Days\n",
       "7             2         1-3 Days\n",
       "8             0         Same Day\n",
       "9             2         1-3 Days"
      ]
     },
     "execution_count": 198,
     "metadata": {},
     "output_type": "execute_result"
    }
   ],
   "source": [
    "df[['waiting_days', 'waiting_category']].head(10)\n"
   ]
  },
  {
   "cell_type": "code",
   "execution_count": 200,
   "id": "027e958c-ef6c-41da-ae09-af2b01d76bf7",
   "metadata": {},
   "outputs": [],
   "source": [
    "# Create a new column 'is_weekend' to identify if the appointment day is on a weekend\n",
    "df['is_weekend'] = df['appointmentday'].dt.dayofweek.isin([5, 6])\n"
   ]
  },
  {
   "cell_type": "code",
   "execution_count": 206,
   "id": "fa9182af-2f0f-4dac-a60c-fe4e48a39932",
   "metadata": {},
   "outputs": [
    {
     "data": {
      "text/html": [
       "<div>\n",
       "<style scoped>\n",
       "    .dataframe tbody tr th:only-of-type {\n",
       "        vertical-align: middle;\n",
       "    }\n",
       "\n",
       "    .dataframe tbody tr th {\n",
       "        vertical-align: top;\n",
       "    }\n",
       "\n",
       "    .dataframe thead th {\n",
       "        text-align: right;\n",
       "    }\n",
       "</style>\n",
       "<table border=\"1\" class=\"dataframe\">\n",
       "  <thead>\n",
       "    <tr style=\"text-align: right;\">\n",
       "      <th></th>\n",
       "      <th>appointmentday</th>\n",
       "      <th>is_weekend</th>\n",
       "    </tr>\n",
       "  </thead>\n",
       "  <tbody>\n",
       "    <tr>\n",
       "      <th>0</th>\n",
       "      <td>2016-04-29</td>\n",
       "      <td>False</td>\n",
       "    </tr>\n",
       "    <tr>\n",
       "      <th>1</th>\n",
       "      <td>2016-04-29</td>\n",
       "      <td>False</td>\n",
       "    </tr>\n",
       "    <tr>\n",
       "      <th>2</th>\n",
       "      <td>2016-04-29</td>\n",
       "      <td>False</td>\n",
       "    </tr>\n",
       "    <tr>\n",
       "      <th>3</th>\n",
       "      <td>2016-04-29</td>\n",
       "      <td>False</td>\n",
       "    </tr>\n",
       "    <tr>\n",
       "      <th>4</th>\n",
       "      <td>2016-04-29</td>\n",
       "      <td>False</td>\n",
       "    </tr>\n",
       "    <tr>\n",
       "      <th>5</th>\n",
       "      <td>2016-04-29</td>\n",
       "      <td>False</td>\n",
       "    </tr>\n",
       "    <tr>\n",
       "      <th>6</th>\n",
       "      <td>2016-04-29</td>\n",
       "      <td>False</td>\n",
       "    </tr>\n",
       "    <tr>\n",
       "      <th>7</th>\n",
       "      <td>2016-04-29</td>\n",
       "      <td>False</td>\n",
       "    </tr>\n",
       "    <tr>\n",
       "      <th>8</th>\n",
       "      <td>2016-04-29</td>\n",
       "      <td>False</td>\n",
       "    </tr>\n",
       "    <tr>\n",
       "      <th>9</th>\n",
       "      <td>2016-04-29</td>\n",
       "      <td>False</td>\n",
       "    </tr>\n",
       "  </tbody>\n",
       "</table>\n",
       "</div>"
      ],
      "text/plain": [
       "  appointmentday  is_weekend\n",
       "0     2016-04-29       False\n",
       "1     2016-04-29       False\n",
       "2     2016-04-29       False\n",
       "3     2016-04-29       False\n",
       "4     2016-04-29       False\n",
       "5     2016-04-29       False\n",
       "6     2016-04-29       False\n",
       "7     2016-04-29       False\n",
       "8     2016-04-29       False\n",
       "9     2016-04-29       False"
      ]
     },
     "execution_count": 206,
     "metadata": {},
     "output_type": "execute_result"
    }
   ],
   "source": [
    "    df[['appointmentday', 'is_weekend']].head(10)\n"
   ]
  },
  {
   "cell_type": "markdown",
   "id": "bc76fd6f-c2fe-41dd-9104-ee2ace5f033d",
   "metadata": {},
   "source": [
    "## Summary of Task 1 - Data Cleaning and Preprocessing\r\n",
    "\r\n",
    "In this project, we performed the following data cleaning steps:\r\n",
    "- Checked and confirmed there were no missing values.\r\n",
    "- Removed any duplicate rows from the dataset.\r\n",
    "- Standardized column names (e.g., lowercase, underscores).\r\n",
    "- Converted date columns (`scheduledday`, `appointmentday`) to datetime format.\r\n",
    "- Extracted features like the scheduled day of the week and waiting time.\r\n",
    "- Categorized patients based on their waiting time before appointments.\r\n",
    "- Ensured all data types are consistent (e.g., age as int, dates as datetime, booleans converted).\r\n",
    "\r\n",
    "### Key Insights:\r\n",
    "- Many appointments were scheduled and attended on the same day.\r\n",
    "- Most patients had appointments scheduled within 0–3 days.\r\n"
   ]
  },
  {
   "cell_type": "markdown",
   "id": "f7c304af-91d4-4b60-b7e6-eb6fe3d20c34",
   "metadata": {},
   "source": [
    "# To create cleaned healthcare_data.csv"
   ]
  },
  {
   "cell_type": "code",
   "execution_count": 213,
   "id": "a404246b-e042-4eb1-95d7-fdc5d9d56547",
   "metadata": {},
   "outputs": [],
   "source": [
    "df.to_csv('cleaned_healthcare_data.csv', index=False)"
   ]
  },
  {
   "cell_type": "code",
   "execution_count": null,
   "id": "8408a43c-b1ae-4f85-bdcf-f7bf5f129174",
   "metadata": {},
   "outputs": [],
   "source": []
  }
 ],
 "metadata": {
  "kernelspec": {
   "display_name": "Python 3 (ipykernel)",
   "language": "python",
   "name": "python3"
  },
  "language_info": {
   "codemirror_mode": {
    "name": "ipython",
    "version": 3
   },
   "file_extension": ".py",
   "mimetype": "text/x-python",
   "name": "python",
   "nbconvert_exporter": "python",
   "pygments_lexer": "ipython3",
   "version": "3.12.4"
  }
 },
 "nbformat": 4,
 "nbformat_minor": 5
}
